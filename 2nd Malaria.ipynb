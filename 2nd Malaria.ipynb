{
 "cells": [
  {
   "cell_type": "code",
   "execution_count": 1,
   "metadata": {},
   "outputs": [],
   "source": [
    "import pandas as pd\n",
    "from sklearn.model_selection import train_test_split\n",
    "from sklearn.ensemble import RandomForestClassifier, AdaBoostClassifier\n",
    "from sklearn import metrics\n",
    "import joblib\n",
    "import seaborn as sns\n",
    "import matplotlib.pyplot as plt\n",
    "import seaborn as sns\n",
    "import numpy as np"
   ]
  },
  {
   "cell_type": "code",
   "execution_count": 2,
   "metadata": {},
   "outputs": [],
   "source": [
    "dataframe = pd.read_csv(\"dataset1.csv\")"
   ]
  },
  {
   "cell_type": "code",
   "execution_count": 3,
   "metadata": {},
   "outputs": [
    {
     "data": {
      "text/html": [
       "<div>\n",
       "<style scoped>\n",
       "    .dataframe tbody tr th:only-of-type {\n",
       "        vertical-align: middle;\n",
       "    }\n",
       "\n",
       "    .dataframe tbody tr th {\n",
       "        vertical-align: top;\n",
       "    }\n",
       "\n",
       "    .dataframe thead th {\n",
       "        text-align: right;\n",
       "    }\n",
       "</style>\n",
       "<table border=\"1\" class=\"dataframe\">\n",
       "  <thead>\n",
       "    <tr style=\"text-align: right;\">\n",
       "      <th></th>\n",
       "      <th>Label</th>\n",
       "      <th>area_0</th>\n",
       "      <th>area_1</th>\n",
       "      <th>area_2</th>\n",
       "      <th>area_3</th>\n",
       "      <th>area_4</th>\n",
       "    </tr>\n",
       "  </thead>\n",
       "  <tbody>\n",
       "    <tr>\n",
       "      <td>0</td>\n",
       "      <td>Parasitized</td>\n",
       "      <td>175.5</td>\n",
       "      <td>126.0</td>\n",
       "      <td>131.0</td>\n",
       "      <td>8902.5</td>\n",
       "      <td>0.0</td>\n",
       "    </tr>\n",
       "    <tr>\n",
       "      <td>1</td>\n",
       "      <td>Parasitized</td>\n",
       "      <td>222.0</td>\n",
       "      <td>9847.5</td>\n",
       "      <td>0.0</td>\n",
       "      <td>0.0</td>\n",
       "      <td>0.0</td>\n",
       "    </tr>\n",
       "    <tr>\n",
       "      <td>2</td>\n",
       "      <td>Parasitized</td>\n",
       "      <td>179.5</td>\n",
       "      <td>256.5</td>\n",
       "      <td>12413.0</td>\n",
       "      <td>0.0</td>\n",
       "      <td>0.0</td>\n",
       "    </tr>\n",
       "    <tr>\n",
       "      <td>3</td>\n",
       "      <td>Parasitized</td>\n",
       "      <td>18.0</td>\n",
       "      <td>187.5</td>\n",
       "      <td>9306.5</td>\n",
       "      <td>0.0</td>\n",
       "      <td>0.0</td>\n",
       "    </tr>\n",
       "    <tr>\n",
       "      <td>4</td>\n",
       "      <td>Parasitized</td>\n",
       "      <td>142.5</td>\n",
       "      <td>156.5</td>\n",
       "      <td>6669.5</td>\n",
       "      <td>0.0</td>\n",
       "      <td>0.0</td>\n",
       "    </tr>\n",
       "  </tbody>\n",
       "</table>\n",
       "</div>"
      ],
      "text/plain": [
       "         Label  area_0  area_1   area_2  area_3  area_4\n",
       "0  Parasitized   175.5   126.0    131.0  8902.5     0.0\n",
       "1  Parasitized   222.0  9847.5      0.0     0.0     0.0\n",
       "2  Parasitized   179.5   256.5  12413.0     0.0     0.0\n",
       "3  Parasitized    18.0   187.5   9306.5     0.0     0.0\n",
       "4  Parasitized   142.5   156.5   6669.5     0.0     0.0"
      ]
     },
     "execution_count": 3,
     "metadata": {},
     "output_type": "execute_result"
    }
   ],
   "source": [
    "dataframe.head()"
   ]
  },
  {
   "cell_type": "code",
   "execution_count": 4,
   "metadata": {},
   "outputs": [
    {
     "data": {
      "text/html": [
       "<div>\n",
       "<style scoped>\n",
       "    .dataframe tbody tr th:only-of-type {\n",
       "        vertical-align: middle;\n",
       "    }\n",
       "\n",
       "    .dataframe tbody tr th {\n",
       "        vertical-align: top;\n",
       "    }\n",
       "\n",
       "    .dataframe thead th {\n",
       "        text-align: right;\n",
       "    }\n",
       "</style>\n",
       "<table border=\"1\" class=\"dataframe\">\n",
       "  <thead>\n",
       "    <tr style=\"text-align: right;\">\n",
       "      <th></th>\n",
       "      <th>Label</th>\n",
       "      <th>area_0</th>\n",
       "      <th>area_1</th>\n",
       "      <th>area_2</th>\n",
       "      <th>area_3</th>\n",
       "      <th>area_4</th>\n",
       "    </tr>\n",
       "  </thead>\n",
       "  <tbody>\n",
       "    <tr>\n",
       "      <td>27553</td>\n",
       "      <td>Uninfected</td>\n",
       "      <td>13228.0</td>\n",
       "      <td>0.0</td>\n",
       "      <td>0.0</td>\n",
       "      <td>0.0</td>\n",
       "      <td>0.0</td>\n",
       "    </tr>\n",
       "    <tr>\n",
       "      <td>27554</td>\n",
       "      <td>Uninfected</td>\n",
       "      <td>9757.5</td>\n",
       "      <td>0.0</td>\n",
       "      <td>0.0</td>\n",
       "      <td>0.0</td>\n",
       "      <td>0.0</td>\n",
       "    </tr>\n",
       "    <tr>\n",
       "      <td>27555</td>\n",
       "      <td>Uninfected</td>\n",
       "      <td>156.0</td>\n",
       "      <td>9927.5</td>\n",
       "      <td>0.0</td>\n",
       "      <td>0.0</td>\n",
       "      <td>0.0</td>\n",
       "    </tr>\n",
       "    <tr>\n",
       "      <td>27556</td>\n",
       "      <td>Uninfected</td>\n",
       "      <td>13384.5</td>\n",
       "      <td>0.0</td>\n",
       "      <td>0.0</td>\n",
       "      <td>0.0</td>\n",
       "      <td>0.0</td>\n",
       "    </tr>\n",
       "    <tr>\n",
       "      <td>27557</td>\n",
       "      <td>Uninfected</td>\n",
       "      <td>10203.5</td>\n",
       "      <td>0.0</td>\n",
       "      <td>0.0</td>\n",
       "      <td>0.0</td>\n",
       "      <td>0.0</td>\n",
       "    </tr>\n",
       "  </tbody>\n",
       "</table>\n",
       "</div>"
      ],
      "text/plain": [
       "            Label   area_0  area_1  area_2  area_3  area_4\n",
       "27553  Uninfected  13228.0     0.0     0.0     0.0     0.0\n",
       "27554  Uninfected   9757.5     0.0     0.0     0.0     0.0\n",
       "27555  Uninfected    156.0  9927.5     0.0     0.0     0.0\n",
       "27556  Uninfected  13384.5     0.0     0.0     0.0     0.0\n",
       "27557  Uninfected  10203.5     0.0     0.0     0.0     0.0"
      ]
     },
     "execution_count": 4,
     "metadata": {},
     "output_type": "execute_result"
    }
   ],
   "source": [
    "dataframe.tail()"
   ]
  },
  {
   "cell_type": "code",
   "execution_count": 5,
   "metadata": {},
   "outputs": [
    {
     "data": {
      "text/plain": [
       "Label     0\n",
       "area_0    0\n",
       "area_1    0\n",
       "area_2    0\n",
       "area_3    0\n",
       "area_4    0\n",
       "dtype: int64"
      ]
     },
     "execution_count": 5,
     "metadata": {},
     "output_type": "execute_result"
    }
   ],
   "source": [
    "dataframe.isnull().sum()"
   ]
  },
  {
   "cell_type": "code",
   "execution_count": 6,
   "metadata": {},
   "outputs": [
    {
     "name": "stdout",
     "output_type": "stream",
     "text": [
      "Pixiedust database opened successfully\n"
     ]
    },
    {
     "data": {
      "text/html": [
       "\n",
       "        <div style=\"margin:10px\">\n",
       "            <a href=\"https://github.com/ibm-watson-data-lab/pixiedust\" target=\"_new\">\n",
       "                <img src=\"https://github.com/ibm-watson-data-lab/pixiedust/raw/master/docs/_static/pd_icon32.png\" style=\"float:left;margin-right:10px\"/>\n",
       "            </a>\n",
       "            <span>Pixiedust version 1.1.17</span>\n",
       "        </div>\n",
       "        "
      ],
      "text/plain": [
       "<IPython.core.display.HTML object>"
      ]
     },
     "metadata": {},
     "output_type": "display_data"
    }
   ],
   "source": [
    "import pixiedust"
   ]
  },
  {
   "cell_type": "code",
   "execution_count": 7,
   "metadata": {
    "pixiedust": {
     "displayParams": {
      "handlerId": "barChart",
      "keyFields": "Label",
      "valueFields": "area_0,area_1,area_2,area_3,area_4"
     }
    }
   },
   "outputs": [
    {
     "data": {
      "text/html": [
       "<style type=\"text/css\">.pd_warning{display:none;}</style><div class=\"pd_warning\"><em>Hey, there's something awesome here! To see it, open this notebook outside GitHub, in a viewer like Jupyter</em></div>\n",
       "        <div class=\"pd_save is-viewer-good\" style=\"padding-right:10px;text-align: center;line-height:initial !important;font-size: xx-large;font-weight: 500;color: coral;\">\n",
       "            \n",
       "        </div>\n",
       "    <div id=\"chartFigure0c956b31\" class=\"pd_save is-viewer-good\" style=\"overflow-x:auto\">\n",
       "            \n",
       "                    \n",
       "                            <center><img style=\"max-width:initial !important\" src=\"data:image/png;base64,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\" class=\"pd_save\"></center>\n",
       "                        \n",
       "                    \n",
       "                \n",
       "        </div>"
      ],
      "text/plain": [
       "<IPython.core.display.HTML object>"
      ]
     },
     "metadata": {},
     "output_type": "display_data"
    }
   ],
   "source": [
    "display(dataframe)"
   ]
  },
  {
   "cell_type": "code",
   "execution_count": 8,
   "metadata": {},
   "outputs": [],
   "source": [
    "#Split into training and test data\n",
    "x = dataframe.drop([\"Label\"],axis=1)\n",
    "y = dataframe[\"Label\"]\n",
    "x_train, x_test, y_train, y_test = train_test_split(x,y,test_size=0.2,random_state=42)"
   ]
  },
  {
   "cell_type": "code",
   "execution_count": 9,
   "metadata": {},
   "outputs": [
    {
     "data": {
      "text/plain": [
       "RandomForestClassifier(bootstrap=True, class_weight=None, criterion='gini',\n",
       "                       max_depth=5, max_features='auto', max_leaf_nodes=None,\n",
       "                       min_impurity_decrease=0.0, min_impurity_split=None,\n",
       "                       min_samples_leaf=1, min_samples_split=2,\n",
       "                       min_weight_fraction_leaf=0.0, n_estimators=100,\n",
       "                       n_jobs=None, oob_score=False, random_state=None,\n",
       "                       verbose=0, warm_start=False)"
      ]
     },
     "execution_count": 9,
     "metadata": {},
     "output_type": "execute_result"
    }
   ],
   "source": [
    "#APPLYING RANDOM FOREST\n",
    "model_rf = RandomForestClassifier(n_estimators=100,max_depth=5)\n",
    "model_rf.fit(x_train,y_train)\n",
    "#joblib.dump(model,\"rf_malaria_100_5\")"
   ]
  },
  {
   "cell_type": "code",
   "execution_count": 10,
   "metadata": {},
   "outputs": [
    {
     "name": "stdout",
     "output_type": "stream",
     "text": [
      "              precision    recall  f1-score   support\n",
      "\n",
      " Parasitized       0.90      0.90      0.90      2771\n",
      "  Uninfected       0.90      0.89      0.90      2741\n",
      "\n",
      "    accuracy                           0.90      5512\n",
      "   macro avg       0.90      0.90      0.90      5512\n",
      "weighted avg       0.90      0.90      0.90      5512\n",
      "\n",
      "0.898766328011611\n"
     ]
    }
   ],
   "source": [
    "predictions_rf = model_rf.predict(x_test)\n",
    "\n",
    "print(metrics.classification_report(predictions_rf,y_test))\n",
    "print(model_rf.score(x_test,y_test))"
   ]
  },
  {
   "cell_type": "code",
   "execution_count": 11,
   "metadata": {},
   "outputs": [
    {
     "name": "stdout",
     "output_type": "stream",
     "text": [
      "[[2505  292]\n",
      " [ 266 2449]]\n"
     ]
    }
   ],
   "source": [
    "# Making the Confusion Matrix\n",
    "from sklearn.metrics import confusion_matrix\n",
    "cm_rf = confusion_matrix(y_test, predictions_rf)\n",
    "print(cm_rf)"
   ]
  },
  {
   "cell_type": "code",
   "execution_count": 12,
   "metadata": {},
   "outputs": [
    {
     "data": {
      "text/plain": [
       "DecisionTreeClassifier(class_weight=None, criterion='entropy', max_depth=None,\n",
       "                       max_features=None, max_leaf_nodes=None,\n",
       "                       min_impurity_decrease=0.0, min_impurity_split=None,\n",
       "                       min_samples_leaf=1, min_samples_split=2,\n",
       "                       min_weight_fraction_leaf=0.0, presort=False,\n",
       "                       random_state=0, splitter='best')"
      ]
     },
     "execution_count": 12,
     "metadata": {},
     "output_type": "execute_result"
    }
   ],
   "source": [
    "# Fitting Decision Tree Classification\n",
    "from sklearn.tree import DecisionTreeClassifier\n",
    "classifier_dt = DecisionTreeClassifier(criterion = 'entropy', random_state = 0)\n",
    "classifier_dt.fit(x_train, y_train)"
   ]
  },
  {
   "cell_type": "code",
   "execution_count": 13,
   "metadata": {},
   "outputs": [],
   "source": [
    "y_pred_dt = classifier_dt.predict(x_test)"
   ]
  },
  {
   "cell_type": "code",
   "execution_count": 14,
   "metadata": {},
   "outputs": [
    {
     "name": "stdout",
     "output_type": "stream",
     "text": [
      "              precision    recall  f1-score   support\n",
      "\n",
      " Parasitized       0.84      0.84      0.84      2792\n",
      "  Uninfected       0.84      0.84      0.84      2720\n",
      "\n",
      "    accuracy                           0.84      5512\n",
      "   macro avg       0.84      0.84      0.84      5512\n",
      "weighted avg       0.84      0.84      0.84      5512\n",
      "\n",
      "0.8383526850507983\n"
     ]
    }
   ],
   "source": [
    "print(metrics.classification_report(y_pred_dt,y_test))\n",
    "print(classifier_dt.score(x_test,y_test))"
   ]
  },
  {
   "cell_type": "code",
   "execution_count": 15,
   "metadata": {},
   "outputs": [
    {
     "name": "stdout",
     "output_type": "stream",
     "text": [
      "[[2349  448]\n",
      " [ 443 2272]]\n"
     ]
    }
   ],
   "source": [
    "from sklearn.metrics import confusion_matrix\n",
    "cm_dt = confusion_matrix(y_test, y_pred_dt)\n",
    "print(cm_dt)"
   ]
  },
  {
   "cell_type": "code",
   "execution_count": 16,
   "metadata": {},
   "outputs": [
    {
     "data": {
      "text/plain": [
       "GaussianNB(priors=None, var_smoothing=1e-09)"
      ]
     },
     "execution_count": 16,
     "metadata": {},
     "output_type": "execute_result"
    }
   ],
   "source": [
    "# Fitting Naive Bayes to the Training set\n",
    "from sklearn.naive_bayes import GaussianNB\n",
    "classifier_nb = GaussianNB()\n",
    "classifier_nb.fit(x_train, y_train)"
   ]
  },
  {
   "cell_type": "code",
   "execution_count": 17,
   "metadata": {},
   "outputs": [
    {
     "name": "stdout",
     "output_type": "stream",
     "text": [
      "              precision    recall  f1-score   support\n",
      "\n",
      " Parasitized       0.81      0.92      0.86      2462\n",
      "  Uninfected       0.92      0.82      0.87      3050\n",
      "\n",
      "    accuracy                           0.86      5512\n",
      "   macro avg       0.86      0.87      0.86      5512\n",
      "weighted avg       0.87      0.86      0.86      5512\n",
      "\n",
      "0.8641146589259797\n"
     ]
    }
   ],
   "source": [
    "# Predicting the Test set results\n",
    "y_pred_nb = classifier_nb.predict(x_test)\n",
    "y_pred_nb = classifier_nb.predict(x_test)\n",
    "\n",
    "print(metrics.classification_report(y_pred_nb,y_test))\n",
    "print(classifier_nb.score(x_test,y_test))\n",
    "\n"
   ]
  },
  {
   "cell_type": "code",
   "execution_count": 18,
   "metadata": {},
   "outputs": [
    {
     "name": "stdout",
     "output_type": "stream",
     "text": [
      "[[2255  542]\n",
      " [ 207 2508]]\n"
     ]
    }
   ],
   "source": [
    "from sklearn.metrics import confusion_matrix\n",
    "cm_nb = confusion_matrix(y_test, y_pred_nb)\n",
    "print(cm_nb)"
   ]
  },
  {
   "cell_type": "code",
   "execution_count": 19,
   "metadata": {},
   "outputs": [],
   "source": [
    "#ANALYSIS ON RESULTS FROM DIFFERENT MODELS\n",
    "X_RES=['cm_dt','cm_nb','cm_rf']"
   ]
  },
  {
   "cell_type": "code",
   "execution_count": null,
   "metadata": {},
   "outputs": [],
   "source": []
  },
  {
   "cell_type": "code",
   "execution_count": null,
   "metadata": {},
   "outputs": [],
   "source": []
  }
 ],
 "metadata": {
  "kernelspec": {
   "display_name": "Python 3",
   "language": "python",
   "name": "python3"
  },
  "language_info": {
   "codemirror_mode": {
    "name": "ipython",
    "version": 3
   },
   "file_extension": ".py",
   "mimetype": "text/x-python",
   "name": "python",
   "nbconvert_exporter": "python",
   "pygments_lexer": "ipython3",
   "version": "3.7.4"
  }
 },
 "nbformat": 4,
 "nbformat_minor": 2
}
